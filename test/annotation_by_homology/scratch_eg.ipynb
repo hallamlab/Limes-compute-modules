{
 "cells": [
  {
   "cell_type": "code",
   "execution_count": 1,
   "metadata": {},
   "outputs": [],
   "source": [
    "import os, sys\n",
    "import pandas as pd\n",
    "import sqlite3"
   ]
  },
  {
   "cell_type": "code",
   "execution_count": 2,
   "metadata": {},
   "outputs": [
    {
     "data": {
      "text/html": [
       "<div>\n",
       "<style scoped>\n",
       "    .dataframe tbody tr th:only-of-type {\n",
       "        vertical-align: middle;\n",
       "    }\n",
       "\n",
       "    .dataframe tbody tr th {\n",
       "        vertical-align: top;\n",
       "    }\n",
       "\n",
       "    .dataframe thead th {\n",
       "        text-align: right;\n",
       "    }\n",
       "</style>\n",
       "<table border=\"1\" class=\"dataframe\">\n",
       "  <thead>\n",
       "    <tr style=\"text-align: right;\">\n",
       "      <th></th>\n",
       "      <th>qseqid</th>\n",
       "      <th>stitle</th>\n",
       "      <th>qstart</th>\n",
       "      <th>qend</th>\n",
       "      <th>nident</th>\n",
       "      <th>pident</th>\n",
       "      <th>evalue</th>\n",
       "    </tr>\n",
       "  </thead>\n",
       "  <tbody>\n",
       "    <tr>\n",
       "      <th>0</th>\n",
       "      <td>k59_264_1</td>\n",
       "      <td>292564.Cyagr_2032</td>\n",
       "      <td>2</td>\n",
       "      <td>72</td>\n",
       "      <td>43</td>\n",
       "      <td>60.6</td>\n",
       "      <td>1.100000e-23</td>\n",
       "    </tr>\n",
       "    <tr>\n",
       "      <th>1</th>\n",
       "      <td>k59_264_1</td>\n",
       "      <td>1407650.BAUB01000028_gene2817</td>\n",
       "      <td>1</td>\n",
       "      <td>72</td>\n",
       "      <td>42</td>\n",
       "      <td>58.3</td>\n",
       "      <td>6.370000e-21</td>\n",
       "    </tr>\n",
       "    <tr>\n",
       "      <th>2</th>\n",
       "      <td>k59_264_1</td>\n",
       "      <td>197221.22295135</td>\n",
       "      <td>1</td>\n",
       "      <td>72</td>\n",
       "      <td>41</td>\n",
       "      <td>56.9</td>\n",
       "      <td>8.330000e-19</td>\n",
       "    </tr>\n",
       "    <tr>\n",
       "      <th>3</th>\n",
       "      <td>k59_264_1</td>\n",
       "      <td>32057.KB217478_gene5889</td>\n",
       "      <td>4</td>\n",
       "      <td>72</td>\n",
       "      <td>37</td>\n",
       "      <td>52.1</td>\n",
       "      <td>5.870000e-16</td>\n",
       "    </tr>\n",
       "    <tr>\n",
       "      <th>4</th>\n",
       "      <td>k59_264_1</td>\n",
       "      <td>1170562.Cal6303_3076</td>\n",
       "      <td>1</td>\n",
       "      <td>72</td>\n",
       "      <td>39</td>\n",
       "      <td>52.7</td>\n",
       "      <td>1.120000e-15</td>\n",
       "    </tr>\n",
       "    <tr>\n",
       "      <th>...</th>\n",
       "      <td>...</td>\n",
       "      <td>...</td>\n",
       "      <td>...</td>\n",
       "      <td>...</td>\n",
       "      <td>...</td>\n",
       "      <td>...</td>\n",
       "      <td>...</td>\n",
       "    </tr>\n",
       "    <tr>\n",
       "      <th>81401</th>\n",
       "      <td>k59_219_12</td>\n",
       "      <td>1348662.CARG_02845</td>\n",
       "      <td>14</td>\n",
       "      <td>45</td>\n",
       "      <td>27</td>\n",
       "      <td>84.4</td>\n",
       "      <td>1.060000e-08</td>\n",
       "    </tr>\n",
       "    <tr>\n",
       "      <th>81402</th>\n",
       "      <td>k59_219_12</td>\n",
       "      <td>1306990.BARG01000013_gene1015</td>\n",
       "      <td>4</td>\n",
       "      <td>50</td>\n",
       "      <td>28</td>\n",
       "      <td>59.6</td>\n",
       "      <td>1.090000e-08</td>\n",
       "    </tr>\n",
       "    <tr>\n",
       "      <th>81403</th>\n",
       "      <td>k59_219_12</td>\n",
       "      <td>1449347.JQLN01000005_gene3963</td>\n",
       "      <td>14</td>\n",
       "      <td>46</td>\n",
       "      <td>27</td>\n",
       "      <td>81.8</td>\n",
       "      <td>1.180000e-08</td>\n",
       "    </tr>\n",
       "    <tr>\n",
       "      <th>81404</th>\n",
       "      <td>k59_219_12</td>\n",
       "      <td>680198.SCAB_53051</td>\n",
       "      <td>5</td>\n",
       "      <td>46</td>\n",
       "      <td>27</td>\n",
       "      <td>64.3</td>\n",
       "      <td>1.680000e-08</td>\n",
       "    </tr>\n",
       "    <tr>\n",
       "      <th>81405</th>\n",
       "      <td>k59_219_12</td>\n",
       "      <td>102129.Lepto7375DRAFT_6604</td>\n",
       "      <td>5</td>\n",
       "      <td>46</td>\n",
       "      <td>25</td>\n",
       "      <td>59.5</td>\n",
       "      <td>1.720000e-08</td>\n",
       "    </tr>\n",
       "  </tbody>\n",
       "</table>\n",
       "<p>81406 rows × 7 columns</p>\n",
       "</div>"
      ],
      "text/plain": [
       "           qseqid                         stitle  qstart  qend  nident  \\\n",
       "0       k59_264_1              292564.Cyagr_2032       2    72      43   \n",
       "1       k59_264_1  1407650.BAUB01000028_gene2817       1    72      42   \n",
       "2       k59_264_1                197221.22295135       1    72      41   \n",
       "3       k59_264_1        32057.KB217478_gene5889       4    72      37   \n",
       "4       k59_264_1           1170562.Cal6303_3076       1    72      39   \n",
       "...           ...                            ...     ...   ...     ...   \n",
       "81401  k59_219_12             1348662.CARG_02845      14    45      27   \n",
       "81402  k59_219_12  1306990.BARG01000013_gene1015       4    50      28   \n",
       "81403  k59_219_12  1449347.JQLN01000005_gene3963      14    46      27   \n",
       "81404  k59_219_12              680198.SCAB_53051       5    46      27   \n",
       "81405  k59_219_12     102129.Lepto7375DRAFT_6604       5    46      25   \n",
       "\n",
       "       pident        evalue  \n",
       "0        60.6  1.100000e-23  \n",
       "1        58.3  6.370000e-21  \n",
       "2        56.9  8.330000e-19  \n",
       "3        52.1  5.870000e-16  \n",
       "4        52.7  1.120000e-15  \n",
       "...       ...           ...  \n",
       "81401    84.4  1.060000e-08  \n",
       "81402    59.6  1.090000e-08  \n",
       "81403    81.8  1.180000e-08  \n",
       "81404    64.3  1.680000e-08  \n",
       "81405    59.5  1.720000e-08  \n",
       "\n",
       "[81406 rows x 7 columns]"
      ]
     },
     "execution_count": 2,
     "metadata": {},
     "output_type": "execute_result"
    }
   ],
   "source": [
    "tsv, ref = \"./cache/scratch_hits.eg.tsv\", \"../../../lx_ref/eggnog.db\"\n",
    "\n",
    "columns = f\"qseqid stitle qstart qend nident pident evalue\".split(\" \")\n",
    "\n",
    "df_an = pd.read_csv(tsv, sep=\"\\t\", header=None)\n",
    "df_an.columns = columns\n",
    "\n",
    "df_an"
   ]
  },
  {
   "cell_type": "code",
   "execution_count": 5,
   "metadata": {},
   "outputs": [
    {
     "name": "stdout",
     "output_type": "stream",
     "text": [
      "('COG0477', '1', 125439, 'Major facilitator Superfamily', 'EGP')\n"
     ]
    }
   ],
   "source": [
    "with sqlite3.connect(ref) as con:\n",
    "    cur = con.cursor()\n",
    "    _max, _max_og = 0, None\n",
    "    for row in cur.execute(f\"select * from og\"):\n",
    "        og, level, nm, desc, cog = row\n",
    "        nm = int(nm)\n",
    "        if nm > _max:\n",
    "            _max = nm\n",
    "            _max_og = og\n",
    "        \n",
    "    res = next(cur.execute(f\"select * from og where og='{_max_og}'\"))\n",
    "    print(res)\n",
    "# seems like nm is size of cluster"
   ]
  },
  {
   "cell_type": "code",
   "execution_count": 42,
   "metadata": {},
   "outputs": [],
   "source": [
    "prot_cols = ['name', 'bigg_reaction', 'gos', 'pfam', 'pname', 'ogs', 'orthoindex', 'kegg_ko', 'kegg_cog', 'kegg_disease', 'kegg_ec', 'kegg_brite', 'kegg_rclass', 'kegg_tc', 'kegg_cazy', 'kegg_pathway', 'kegg_module', 'kegg_reaction', 'kegg_go', 'kegg_drug', 'kegg_pubmed', 'kegg_network']\n",
    "group_cols = ['og', 'level', 'nm', 'description', 'COG_categories']\n",
    "\n",
    "with sqlite3.connect(ref) as con:\n",
    "    cur = con.cursor()\n",
    "\n",
    "    def _get_prot(k):\n",
    "        return next(cur.execute(f\"select * from prots where name='{k}'\"))\n",
    "    \n",
    "    def _get_grp(k, l):\n",
    "        return next(cur.execute(f\"select * from og where og='{k}' and level='{l}'\"))\n",
    "    \n",
    "    gi = prot_cols.index('ogs')\n",
    "    prots = []\n",
    "    group_ks = set()\n",
    "    for _, row in df_an.iterrows():\n",
    "        key = row.stitle\n",
    "        annot = _get_prot(key)\n",
    "        _groups = annot[gi] if annot[gi] is not None else \"\"\n",
    "        group_ks.update([tuple(g.split(\"@\")) for g in _groups.split(\",\") if \"COG\" not in g])\n",
    "        prots.append(annot)\n",
    "    dfp = pd.DataFrame(prots, columns=prot_cols)\n",
    "    dfp.to_csv(\"./cache/test.annots.csv\", index=False)\n",
    "\n",
    "    groups = []\n",
    "    for gk, level in group_ks:\n",
    "        groups.append(_get_grp(gk, level))\n",
    "    dfg = pd.DataFrame(groups, columns=group_cols)\n",
    "    dfg.to_csv(\"./cache/test.groups.csv\", index=False)"
   ]
  },
  {
   "cell_type": "code",
   "execution_count": 13,
   "metadata": {},
   "outputs": [
    {
     "name": "stdout",
     "output_type": "stream",
     "text": [
      "('1EQ0F', '1016', 12, 'Methyltransferase domain protein', 'Q')\n",
      "('1EQ0G', '1016', 5, 'Psort location CytoplasmicMembrane, score', 'V')\n",
      "('1EQ0H', '1016', 12, 'This is 1 of the proteins that binds and probably mediates the attachment of the 5S RNA into the large ribosomal subunit, where it forms part of the central protuberance. In the 70S ribosome it contacts protein S13 of the 30S subunit (bridge B1b), connecting the 2 subunits', 'J')\n",
      "('1EQ0I', '1016', 11, 'Belongs to the FBPase class 1 family', 'G')\n",
      "('1EQ0J', '1016', 10, 'Transporter, DASS family', 'P')\n",
      "\n",
      "('#member', None, None, None, None, None, None, 'KOs', 'cog', 'disease', 'enzyme', 'brite', 'rclass', 'tc', 'cazy', 'pathway', 'module', 'reaction', 'go', 'drug', 'pubmed', 'network')\n",
      "('1000565.METUNv1_00006', None, None, 'DDE_Tnp_1,DUF772', 'EGK73635.1', '1MUVI@1224,2KUE1@206389,2VK9J@28216,COG3039@1,COG3039@2', '3136246,3136328,3136329,3136330,3136331,3136341,3136342,20677502,20677503,20677504,29171134,29171139,29171140,29171146,40440652,40440655,40440667,40440668,40440671,40440682,40440683,40440684,40440685,40440727,40440737,40440738', None, None, None, None, None, None, None, None, None, None, None, None, None, None, None)\n",
      "('1000565.METUNv1_00011', None, None, 'DDE_Tnp_1_6', 'EGK73634.1', '1N3QR@1224,2VSS4@28216,COG3666@1,COG3666@2', '5239067,5239068,5239069,5239070,5239071,5239072,5239073,5239074,5239075,5239076,5239078,5239080,29381765,29381766,41336629,41336630,41337191,41337227,41337228,41337229,41337230,41337231,41337232,41337239', None, None, None, None, None, None, None, None, None, None, None, None, None, None, None)\n",
      "('1000565.METUNv1_00018', None, None, None, 'EGK73632.1', None, None, None, None, None, None, None, None, None, None, None, None, None, None, None, None, None)\n",
      "('1000565.METUNv1_00019', None, None, 'DEDD_Tnp_IS110,Transposase_20', 'EGK73633.1', '1PH3B@1224,2KXIB@206389,2WBT4@28216,COG3547@1,COG3547@2', '41202440,41202780,41202829,41202830,41202831,41202842,41202843,41202868', None, None, None, None, None, None, None, None, None, None, None, None, None, None, None)\n"
     ]
    }
   ],
   "source": [
    "def do(q):\n",
    "    with sqlite3.connect(ref) as con:\n",
    "        cur = con.cursor()\n",
    "\n",
    "        x = cur.execute(q)\n",
    "        return x\n",
    "    \n",
    "for i, x in enumerate(do(f\"select * from og\")):\n",
    "    print(x)\n",
    "    if i > 3: break\n",
    "print()\n",
    "for i, x in enumerate(do(f\"select * from prots\")):\n",
    "    print(x)\n",
    "    if i > 3: break"
   ]
  },
  {
   "cell_type": "code",
   "execution_count": 15,
   "metadata": {},
   "outputs": [
    {
     "name": "stdout",
     "output_type": "stream",
     "text": [
      "('table', 'event', 'event', 2, 'CREATE TABLE event(\\ni INTEGER PRIMARY KEY,\\nlevel VARCHAR(16),\\nog VARCHAR(16),\\nside1 TEXT,\\nside2 TEXT)')\n",
      "('table', 'og', 'og', 3, 'CREATE TABLE \"og\"(og VARCHAR(16), level VARCHAR(16), nm INTEGER, description TEXT, COG_categories VARCHAR(8), PRIMARY KEY (og, level)) without rowid')\n",
      "('table', 'version', 'version', 4, 'CREATE TABLE \"version\" (version VARCHAR(16) PRIMARY KEY) without rowid')\n",
      "('table', 'prots', 'prots', 5, 'CREATE TABLE \"prots\" (name VARCHAR(32) PRIMARY KEY, bigg_reaction VARCHAR(32), gos TEXT, pfam TEXT, pname VARCHAR(32), ogs VARCHAR(256), orthoindex VARCHAR(256), kegg_ko VARCHAR(256), kegg_cog VARCHAR(256), kegg_disease VARCHAR(256), kegg_ec VARCHAR(256), kegg_brite VARCHAR(256), kegg_rclass VARCHAR(256), kegg_tc VARCHAR(256), kegg_cazy VARCHAR(256), kegg_pathway VARCHAR(256), kegg_module VARCHAR(256), kegg_reaction VARCHAR(256), kegg_go VARCHAR(256), kegg_drug VARCHAR(256), kegg_pubmed TEXT, kegg_network TEXT) WITHOUT ROWID')\n",
      "('index', 'event_level_idx', 'event', 6, 'CREATE INDEX event_level_idx ON event (i, level)')\n"
     ]
    }
   ],
   "source": [
    "for i, x in enumerate(do(f\"select * from sqlite_schema\")):\n",
    "    print(x)"
   ]
  },
  {
   "cell_type": "code",
   "execution_count": 30,
   "metadata": {},
   "outputs": [
    {
     "name": "stdout",
     "output_type": "stream",
     "text": [
      "['name', 'bigg_reaction', 'gos', 'pfam', 'pname', 'ogs', 'orthoindex', 'kegg_ko', 'kegg_cog', 'kegg_disease', 'kegg_ec', 'kegg_brite', 'kegg_rclass', 'kegg_tc', 'kegg_cazy', 'kegg_pathway', 'kegg_module', 'kegg_reaction', 'kegg_go', 'kegg_drug', 'kegg_pubmed', 'kegg_network']\n"
     ]
    }
   ],
   "source": [
    "_prots = \"name VARCHAR(32) PRIMARY KEY, bigg_reaction VARCHAR(32), gos TEXT, pfam TEXT, pname VARCHAR(32), ogs VARCHAR(256), orthoindex VARCHAR(256), kegg_ko VARCHAR(256), kegg_cog VARCHAR(256), kegg_disease VARCHAR(256), kegg_ec VARCHAR(256), kegg_brite VARCHAR(256), kegg_rclass VARCHAR(256), kegg_tc VARCHAR(256), kegg_cazy VARCHAR(256), kegg_pathway VARCHAR(256), kegg_module VARCHAR(256), kegg_reaction VARCHAR(256), kegg_go VARCHAR(256), kegg_drug VARCHAR(256), kegg_pubmed TEXT, kegg_network TEXT\"\n",
    "group_cols = [v.split(\" \")[0] for v in _prots.split(\", \")]\n",
    "print(group_cols)"
   ]
  },
  {
   "cell_type": "code",
   "execution_count": 32,
   "metadata": {},
   "outputs": [
    {
     "name": "stdout",
     "output_type": "stream",
     "text": [
      "['og', 'level', 'nm', 'description', 'COG_categories']\n"
     ]
    }
   ],
   "source": [
    "_og = \"og VARCHAR(16), level VARCHAR(16), nm INTEGER, description TEXT, COG_categories VARCHAR(8)\"\n",
    "og_cols = [v.split(\" \")[0] for v in _og.split(\", \")]\n",
    "print(og_cols)"
   ]
  },
  {
   "cell_type": "code",
   "execution_count": 27,
   "metadata": {},
   "outputs": [
    {
     "name": "stdout",
     "output_type": "stream",
     "text": [
      "('1EQ0I', '1016', 11, 'Belongs to the FBPase class 1 family', 'G')\n",
      "('197221.22295135', None, None, 'CAP', 'tll1411', '1G9UW@1117,COG2340@1,COG2340@2', '568081,568082,568083,39675803,39676343,39676344,39676352,39676361,39676362,39676363,39676364,39676369', '', '', '', '', '', '', '', '', '', '', '', '', '', '', '')\n"
     ]
    }
   ],
   "source": [
    "with sqlite3.connect(ref) as con:\n",
    "    cur = con.cursor()\n",
    "    x = cur.execute(f\"select * from og where og='1EQ0I'\")\n",
    "    for i, y in enumerate(x):\n",
    "        print(y)\n",
    "        if i > 3: break\n",
    "\n",
    "with sqlite3.connect(ref) as con:\n",
    "    cur = con.cursor()\n",
    "    x = cur.execute(f\"select * from prots where name='197221.22295135'\")\n",
    "    for i, y in enumerate(x):\n",
    "        print(y)\n",
    "        if i > 3: break"
   ]
  }
 ],
 "metadata": {
  "kernelspec": {
   "display_name": "p311",
   "language": "python",
   "name": "python3"
  },
  "language_info": {
   "codemirror_mode": {
    "name": "ipython",
    "version": 3
   },
   "file_extension": ".py",
   "mimetype": "text/x-python",
   "name": "python",
   "nbconvert_exporter": "python",
   "pygments_lexer": "ipython3",
   "version": "3.11.0"
  },
  "orig_nbformat": 4
 },
 "nbformat": 4,
 "nbformat_minor": 2
}
